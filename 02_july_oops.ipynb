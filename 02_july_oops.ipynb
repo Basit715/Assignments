{
 "cells": [
  {
   "cell_type": "code",
   "execution_count": null,
   "id": "15d1512e-3ab0-48d5-b13a-404a4319e994",
   "metadata": {},
   "outputs": [],
   "source": [
    "# Q1:\n",
    "#Inheritance is the programming paradigm in which we inherit the properties of one base class to the sub class ie;\n",
    "#when we inherit the sub class from the base class we can use the public and protected members and methods inside the sub class\n",
    "#but not vice versa.The importance of inheritance lies in not creating the class from the sctrach but to\n",
    "#use the already created code of base class if there is similarity between base and sub class."
   ]
  },
  {
   "cell_type": "code",
   "execution_count": 20,
   "id": "0b488ef8-433b-43c0-b081-50fb380825e2",
   "metadata": {},
   "outputs": [
    {
     "name": "stdout",
     "output_type": "stream",
     "text": [
      "Students name: Basit\n",
      "students height: 6\n"
     ]
    },
    {
     "ename": "AttributeError",
     "evalue": "'pupil' object has no attribute 'grade'",
     "output_type": "error",
     "traceback": [
      "\u001b[0;31m---------------------------------------------------------------------------\u001b[0m",
      "\u001b[0;31mAttributeError\u001b[0m                            Traceback (most recent call last)",
      "Cell \u001b[0;32mIn [20], line 40\u001b[0m\n\u001b[1;32m     37\u001b[0m         \u001b[38;5;28mprint\u001b[39m(\u001b[38;5;124mf\u001b[39m\u001b[38;5;124m\"\u001b[39m\u001b[38;5;124mstudnets subject: \u001b[39m\u001b[38;5;132;01m{\u001b[39;00m\u001b[38;5;28mself\u001b[39m\u001b[38;5;241m.\u001b[39msubject\u001b[38;5;132;01m}\u001b[39;00m\u001b[38;5;124m\"\u001b[39m)\n\u001b[1;32m     39\u001b[0m stu1 \u001b[38;5;241m=\u001b[39m pupil(\u001b[38;5;124m\"\u001b[39m\u001b[38;5;124mBasit\u001b[39m\u001b[38;5;124m\"\u001b[39m, \u001b[38;5;241m6\u001b[39m, \u001b[38;5;124m\"\u001b[39m\u001b[38;5;124m5th\u001b[39m\u001b[38;5;124m\"\u001b[39m, \u001b[38;5;124m\"\u001b[39m\u001b[38;5;124mmath\u001b[39m\u001b[38;5;124m\"\u001b[39m)\n\u001b[0;32m---> 40\u001b[0m \u001b[43mstu1\u001b[49m\u001b[38;5;241;43m.\u001b[39;49m\u001b[43mpupil_details\u001b[49m\u001b[43m(\u001b[49m\u001b[43m)\u001b[49m\n",
      "Cell \u001b[0;32mIn [20], line 36\u001b[0m, in \u001b[0;36mpupil.pupil_details\u001b[0;34m(self)\u001b[0m\n\u001b[1;32m     34\u001b[0m \u001b[38;5;28mprint\u001b[39m(\u001b[38;5;124mf\u001b[39m\u001b[38;5;124m\"\u001b[39m\u001b[38;5;124mStudents name: \u001b[39m\u001b[38;5;132;01m{\u001b[39;00m\u001b[38;5;28mself\u001b[39m\u001b[38;5;241m.\u001b[39mname\u001b[38;5;132;01m}\u001b[39;00m\u001b[38;5;124m\"\u001b[39m)\n\u001b[1;32m     35\u001b[0m \u001b[38;5;28mprint\u001b[39m(\u001b[38;5;124mf\u001b[39m\u001b[38;5;124m\"\u001b[39m\u001b[38;5;124mstudents height: \u001b[39m\u001b[38;5;132;01m{\u001b[39;00m\u001b[38;5;28mself\u001b[39m\u001b[38;5;241m.\u001b[39mheight\u001b[38;5;132;01m}\u001b[39;00m\u001b[38;5;124m\"\u001b[39m)\n\u001b[0;32m---> 36\u001b[0m \u001b[38;5;28mprint\u001b[39m(\u001b[38;5;124mf\u001b[39m\u001b[38;5;124m\"\u001b[39m\u001b[38;5;124mStudents grade: \u001b[39m\u001b[38;5;132;01m{\u001b[39;00m\u001b[38;5;28mself\u001b[39m\u001b[38;5;241m.\u001b[39mgrade\u001b[38;5;132;01m}\u001b[39;00m\u001b[38;5;124m\"\u001b[39m)\n\u001b[1;32m     37\u001b[0m \u001b[38;5;28mprint\u001b[39m(\u001b[38;5;124mf\u001b[39m\u001b[38;5;124m\"\u001b[39m\u001b[38;5;124mstudnets subject: \u001b[39m\u001b[38;5;132;01m{\u001b[39;00m\u001b[38;5;28mself\u001b[39m\u001b[38;5;241m.\u001b[39msubject\u001b[38;5;132;01m}\u001b[39;00m\u001b[38;5;124m\"\u001b[39m)\n",
      "\u001b[0;31mAttributeError\u001b[0m: 'pupil' object has no attribute 'grade'"
     ]
    }
   ],
   "source": [
    "#Q2:\n",
    "#Single inheritance is the concept of deriving a single class called derived class from a single base class eg;\n",
    "class Person:\n",
    "    def __init__(self, name):\n",
    "        self.name = name\n",
    "        \n",
    "class student(Person):\n",
    "    def __init__(self,name, marks):\n",
    "        super().__init__(name)\n",
    "        self.marks = marks\n",
    "        \n",
    "# Here student is a derived class which is derived from the single base class Person\n",
    "\n",
    "stu1 = student(\"Basit\", 29)\n",
    "stu1.name\n",
    "\n",
    "# Multple inheritance is defined as deriving a single class from many other base classes that is\n",
    "#we use the features of more than one base classes in a derived class.eg;\n",
    "class Person:\n",
    "    def __init__(self, name, height):\n",
    "        self.name = name\n",
    "        self.height = height\n",
    "        \n",
    "class School:\n",
    "    def __init(self, grade, subject):\n",
    "        self.grade = grade\n",
    "        self.subject = subject\n",
    "        \n",
    "class pupil(Person, School):\n",
    "    def __init__(self, name, height, grade, subject):\n",
    "        super().__init__(name, height).__init__(grade, subject)\n",
    "        # super().__init__(grade, subject)\n",
    "    def pupil_details(self):\n",
    "        print(f\"Students name: {self.name}\")\n",
    "        print(f\"students height: {self.height}\")\n",
    "        print(f\"Students grade: {self.grade}\")\n",
    "        print(f\"studnets subject: {self.subject}\")\n",
    "        \n",
    "stu1 = pupil(\"Basit\", 6, \"5th\", \"math\")\n",
    "stu1.pupil_details()\n",
    "\n",
    "# multiple inheritance not resolved"
   ]
  },
  {
   "cell_type": "code",
   "execution_count": null,
   "id": "4bbbd627-b0d9-45dd-9dcb-f3448139ab50",
   "metadata": {},
   "outputs": [],
   "source": [
    "#Q3:\n",
    "# Base class is the parent class from which derived classes are derived and the derived class is the child\n",
    "# class which gets inherited from the base class\n",
    "\n",
    "class Human:\n",
    "    pass\n",
    "class Teacher(Human)\n",
    "\n",
    "# Here Human is the the base class and the Teacher is the derived class."
   ]
  },
  {
   "cell_type": "code",
   "execution_count": null,
   "id": "ccd2eb58-a53d-4030-842f-7837c0873cae",
   "metadata": {},
   "outputs": [],
   "source": [
    "# Q4:\n",
    "#Protected access modifier makes an attribute or methods accessible only in derived class and not outside the\n",
    "# the derived class. The attributes and the methods are preceded with single underscore(_). Private access modifier \n",
    "# makes the attribuets and methods only accessed in the class in swich ther are created and not outside that class and are \n",
    "# denoted by __(double underscore) while as public access modifier makes the attributes accessed from anywhere."
   ]
  },
  {
   "cell_type": "code",
   "execution_count": null,
   "id": "db8e8db1-1efa-4a9e-9bb4-1849107d58e0",
   "metadata": {},
   "outputs": [],
   "source": [
    "#Q5:\n",
    "#super() keyword is used to call the base class constructor from the derived class to inherit the attributes of \n",
    "#base class.\n",
    "class Person:\n",
    "    def __init__(self, name):\n",
    "        self.name = name\n",
    "        \n",
    "class student(Person):\n",
    "    def __init__(self,name, marks):\n",
    "        super().__init__(name)\n",
    "        self.marks = marks\n",
    "        \n",
    "# Here student is a derived class which is derived from the single base class Person\n",
    "\n",
    "stu1 = student(\"Basit\", 29)\n",
    "stu1.name\n",
    "        "
   ]
  },
  {
   "cell_type": "code",
   "execution_count": 22,
   "id": "7c420a61-8e23-4393-9553-1f03d746f974",
   "metadata": {},
   "outputs": [
    {
     "name": "stdout",
     "output_type": "stream",
     "text": [
      "My car brand Hyundai\n",
      "My car model 120\n",
      "My car year 2012\n",
      "My fuel_type petrol\n"
     ]
    }
   ],
   "source": [
    "#Q6:\n",
    "class Vehicle:\n",
    "    def __init__(self, make, model, year):\n",
    "        self.make = make\n",
    "        self.model = model\n",
    "        self.year = year\n",
    "\n",
    "class Car(Vehicle):\n",
    "    def __init__(self, make, model, year, fuel_type):\n",
    "        super().__init__(make, model, year)\n",
    "        self.fuel_type = fuel_type\n",
    "                         \n",
    "    def display_details(self):\n",
    "            print(f\"My car brand {self.make}\")\n",
    "            print(f\"My car model {self.model}\")\n",
    "            print(f\"My car year {self.year}\")\n",
    "            print(f\"My fuel_type {self.fuel_type}\")\n",
    "                         \n",
    "c1 = Car(\"Hyundai\", \"120\", 2012, \"petrol\")\n",
    "c1.display_details()"
   ]
  },
  {
   "cell_type": "code",
   "execution_count": 23,
   "id": "c51604b6-c4f7-4e85-8247-a92a240e7400",
   "metadata": {},
   "outputs": [
    {
     "name": "stdout",
     "output_type": "stream",
     "text": [
      "Manager name Krish\n",
      "Manager salary 120000\n",
      "Manager department AI\n",
      "Programmer name Basit\n",
      "Programmer salary 80000\n",
      "programmer language python\n"
     ]
    }
   ],
   "source": [
    "#Q7:\n",
    "class Employee:\n",
    "    def __init__(self,name, salary):\n",
    "        self.name = name\n",
    "        self.salary = salary\n",
    "        \n",
    "class Manager(Employee):\n",
    "    def __init__(self, name, salary,department):\n",
    "        super().__init__(name, salary)\n",
    "        self.department = department\n",
    "    def display(self):\n",
    "        print(f\"Manager name {self.name}\")\n",
    "        print(f\"Manager salary {self.salary}\")\n",
    "        print(f\"Manager department {self.department}\")\n",
    "class Programmer(Employee):\n",
    "    def __init__(self, name, salary, programming_language):\n",
    "        super().__init__(name, salary)\n",
    "        self.programming_language = programming_language\n",
    "    def display(self):\n",
    "        print(f\"Programmer name {self.name}\")\n",
    "        print(f\"Programmer salary {self.salary}\")\n",
    "        print(f\"programmer language {self.programming_language}\")\n",
    "m1 = Manager(\"Krish\", \"120000\", \"AI\")\n",
    "m1.display()\n",
    "\n",
    "p1 = Programmer(\"Basit\", \"80000\", \"python\")\n",
    "p1.display()"
   ]
  },
  {
   "cell_type": "code",
   "execution_count": 25,
   "id": "a1227f3a-6a80-40a9-8660-3bb0ec6e397e",
   "metadata": {},
   "outputs": [
    {
     "data": {
      "text/plain": [
       "113.03999999999999"
      ]
     },
     "execution_count": 25,
     "metadata": {},
     "output_type": "execute_result"
    }
   ],
   "source": [
    "# Q8:\n",
    "class Shape:\n",
    "    def __init__(self, color, border_width):\n",
    "        self.color = color\n",
    "        self.border_width = border_width\n",
    "class Rectangle(Shape):\n",
    "    def __init__(self, color, border_width, length, breadth):\n",
    "        super().__init__(color, border_width)\n",
    "        self.length = length\n",
    "        self.breadth = breadth\n",
    "    def area(self):\n",
    "        return self.length * self.breadth\n",
    "class Circle(Shape):\n",
    "    def __init__(self, color, border_width, radius):\n",
    "        super().__init__(color, border_width)\n",
    "        self.radius = radius\n",
    "    def area(self):\n",
    "        return 3.14 * self.radius* self.radius\n",
    "\n",
    "r1 = Rectangle(\"red\", \"3cm\", 5, 4)\n",
    "r1.area()\n",
    "\n",
    "c1 = Circle(\"blue\", \"8cm\", 6)\n",
    "c1.area()"
   ]
  },
  {
   "cell_type": "code",
   "execution_count": 26,
   "id": "8d3ade04-2928-47f3-867b-fd1088b860f9",
   "metadata": {},
   "outputs": [
    {
     "name": "stdout",
     "output_type": "stream",
     "text": [
      "My phone brand: mi\n",
      "My phone model: 12 mini\n",
      "My phone screen_size: 6cm\n"
     ]
    }
   ],
   "source": [
    "#Q9:\n",
    "class Device:\n",
    "    def __init__(self,brand, model):\n",
    "        self.brand = brand\n",
    "        self.model = model\n",
    "class Phone(Device):\n",
    "    def __init__(self, brand,model, screen_size):\n",
    "        super().__init__(brand, model)\n",
    "        self.screen_size = screen_size\n",
    "    def display(self):\n",
    "        print(f\"My phone brand: {self.brand}\")\n",
    "        print(f\"My phone model: {self.model}\")\n",
    "        print(f\"My phone screen_size: {self.screen_size}\")\n",
    "class Tablet(Device):\n",
    "    def __init__(self, brand, model, battery_capacity):\n",
    "        super().__init__(self, brand, model)\n",
    "        self.battery_capacity = battery_capacity\n",
    "    def display(self):\n",
    "        print(f\"Tablet brand: {self.brand}\")\n",
    "        print(f\"Tablet model: {self.model}\")\n",
    "        print(f\"Tablet battery_capacity: {self.batter_capacity}\")\n",
    "        \n",
    "p1 = Phone(\"mi\", \"12 mini\", \"6cm\")\n",
    "p1.display()"
   ]
  },
  {
   "cell_type": "code",
   "execution_count": 31,
   "id": "4c5d0e6d-d40a-4327-ad8a-1f9dbde4c9ac",
   "metadata": {},
   "outputs": [
    {
     "data": {
      "text/plain": [
       "45.0"
      ]
     },
     "execution_count": 31,
     "metadata": {},
     "output_type": "execute_result"
    }
   ],
   "source": [
    "#Q10:\n",
    "class BankAccount:\n",
    "    def __init__(self, account_number, balance):\n",
    "        self.account_number = account_number\n",
    "        self.balance = balance\n",
    "\n",
    "class SavingAccount(BankAccount):\n",
    "    def calculate_interest(self):\n",
    "        return self.balance*0.10\n",
    "class checkingAccount(BankAccount):\n",
    "    def deduct_fees(self):\n",
    "        if self.balance < 500:\n",
    "            self.balance-=150\n",
    "        return self.balance\n",
    "\n",
    "\n",
    "s1 = SavingAccount(\"0814041000000327\", 450)\n",
    "s1.calculate_interest()\n",
    "\n",
    "c1 = checkingAccount(\"0814041000000327\", 300)\n",
    "c1.de"
   ]
  },
  {
   "cell_type": "code",
   "execution_count": null,
   "id": "750c98db-526e-44fd-8056-d13c27a8b9e0",
   "metadata": {},
   "outputs": [],
   "source": []
  }
 ],
 "metadata": {
  "kernelspec": {
   "display_name": "Python 3 (ipykernel)",
   "language": "python",
   "name": "python3"
  },
  "language_info": {
   "codemirror_mode": {
    "name": "ipython",
    "version": 3
   },
   "file_extension": ".py",
   "mimetype": "text/x-python",
   "name": "python",
   "nbconvert_exporter": "python",
   "pygments_lexer": "ipython3",
   "version": "3.10.6"
  }
 },
 "nbformat": 4,
 "nbformat_minor": 5
}
