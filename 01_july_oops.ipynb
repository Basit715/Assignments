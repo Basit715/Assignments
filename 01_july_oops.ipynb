{
 "cells": [
  {
   "cell_type": "code",
   "execution_count": 2,
   "id": "e8be4320-1497-40b8-a4ae-f2731bd0bbd7",
   "metadata": {},
   "outputs": [],
   "source": [
    "#Q1: Bsic goal of bject oriented programming is to solve the coding problems based\n",
    "# on real world entities called objects and other goals inheritance, polymorphism, encapsulation and data abstraction\n",
    "\n",
    "\n"
   ]
  },
  {
   "cell_type": "code",
   "execution_count": null,
   "id": "c87bfcea-a9d6-49ca-9854-0da850e672ea",
   "metadata": {},
   "outputs": [],
   "source": [
    "# Q2: Object is the instance of a class \n",
    "\n",
    "class Human:\n",
    "    pass\n",
    "\n",
    "human1 = Human()\n",
    "# Here human1 is the object created from the class Human()"
   ]
  },
  {
   "cell_type": "code",
   "execution_count": null,
   "id": "c6bf82fc-81c3-4111-a4d9-acafdd0f99c5",
   "metadata": {},
   "outputs": [],
   "source": [
    "# Q3: Class is the template based on which we create different objects taking its reference, it can \n",
    "# also be said as a blueprint to create objects eg;\n",
    "class Human:\n",
    "    pass\n",
    "\n",
    "#Human is the blueprint from where we can create objects of class Human"
   ]
  },
  {
   "cell_type": "code",
   "execution_count": null,
   "id": "4d048037-b66a-449c-a40b-a58c708fa4a3",
   "metadata": {},
   "outputs": [],
   "source": [
    "# Q4: Attributes are the class variables which are related to the class while as methods\n",
    "#are the functionsdefined inside the class\n",
    "#eg;\n",
    "\n",
    "class Mobile:\n",
    "    def __init(self, brand, model):\n",
    "        # self.brand is one attribute of this class and self.model is the other\n",
    "        "
   ]
  },
  {
   "cell_type": "code",
   "execution_count": null,
   "id": "1c5683c6-b48a-422d-9137-331d0be19749",
   "metadata": {},
   "outputs": [],
   "source": [
    "# Q5: class variables are those which are created inside the class and the instance\n",
    "#variables are those which are created outside the class "
   ]
  },
  {
   "cell_type": "code",
   "execution_count": 4,
   "id": "7120568e-4d87-48b0-8695-a3407ed3dcdd",
   "metadata": {},
   "outputs": [
    {
     "data": {
      "text/plain": [
       "'Basit'"
      ]
     },
     "execution_count": 4,
     "metadata": {},
     "output_type": "execute_result"
    }
   ],
   "source": [
    "# Q6: Self is used to refer the object of the class we have created say for eg\n",
    "class Person:\n",
    "    def __init__(self, name, first_name):\n",
    "        self.name = name\n",
    "        self.first_name = first_name\n",
    "        \n",
    "person1 = Person(\"Basit\", \"Abass\")\n",
    "person1.name\n",
    "# self will be refering to person1 at this moment"
   ]
  },
  {
   "cell_type": "code",
   "execution_count": 7,
   "id": "e80ab4b1-f397-4a68-9e86-6d21395a14d4",
   "metadata": {},
   "outputs": [
    {
     "name": "stdout",
     "output_type": "stream",
     "text": [
      "The book is best for python programmers containing short codes to crack interviews.\n",
      "Available copies: 13\n",
      "The book is best for python programmers containing short codes to crack interviews.\n",
      "Available copies: 12\n"
     ]
    }
   ],
   "source": [
    "# Q7:\n",
    "class Book:\n",
    "    def __init__(self, title, author, isbn, publication_year, available_copies):\n",
    "        self.title = title\n",
    "        self.author = author\n",
    "        self.isbn = isbn\n",
    "        self.publication_year = publication_year\n",
    "        self.available_copies = available_copies\n",
    "        \n",
    "    def check_out(self):\n",
    "        if self.available_copies < 0:\n",
    "            print(\"No books available\")\n",
    "        else:\n",
    "            self.available_copies-=1\n",
    "    def return_book(self):\n",
    "        self.available_copies += 1\n",
    "        \n",
    "    def display_books(self):\n",
    "        print(f\"The book is best for python programmers containing short codes to crack interviews.\")\n",
    "        print(f\"Available copies: {self.available_copies}\")\n",
    "        \n",
    "    \n",
    "reader1 = Book(\"code_python\", \"Basit Pushoo\", \"BN-1767\", \"2021\", 14)\n",
    "reader1.check_out()\n",
    "reader1.display_books()\n",
    "reader1.check_out()\n",
    "reader1.display_books()\n",
    "\n",
    "        "
   ]
  },
  {
   "cell_type": "code",
   "execution_count": 6,
   "id": "d11ce656-35e7-45b3-a428-503eb70ae68d",
   "metadata": {},
   "outputs": [
    {
     "name": "stdout",
     "output_type": "stream",
     "text": [
      "Reserved your ticket successfully\n",
      "The ticket for the event ind vs pak match which is placed at Narendar Modi Stadium\n",
      "Ticket with id 321 is reserved\n",
      "Successfully cancelled your reservation\n",
      "The ticket for the event ind vs pak match which is placed at Narendar Modi Stadium\n",
      "The ticket is not reserved\n"
     ]
    }
   ],
   "source": [
    "#Q8:\n",
    "class Ticket:\n",
    "    def __init__(self, ticket_id, event_name, event_date, venue, seat_number, price, is_reserved):\n",
    "        self.ticket_id = ticket_id\n",
    "        self.event_name = event_name\n",
    "        self.event_date = event_date\n",
    "        self.venue = venue\n",
    "        self.seat_number = seat_number\n",
    "        self.price = price\n",
    "        self.is_reserved = is_reserved\n",
    "    def reserve_ticket(self):\n",
    "        if self.is_reserved:\n",
    "            print(f\"The ticked with {self.ticked_id} is already reserved \")\n",
    "        else:\n",
    "            self.is_reserved = True\n",
    "            print(f\"Reserved your ticket successfully\")\n",
    "    def cancel_reservation(self):\n",
    "        self.is_reserved = False\n",
    "        print(f\"Successfully cancelled your reservation\")\n",
    "        \n",
    "    def display_ticket_info(self):\n",
    "        print(f\"The ticket for the event {self.event_name} which is placed at {self.venue}\")\n",
    "        if self.is_reserved:\n",
    "            print(f\"Ticket with id {self.ticket_id} is reserved\")\n",
    "        else:\n",
    "            print(f\"The ticket is not reserved\")\n",
    "\n",
    "              \n",
    "              \n",
    "t1 = Ticket(321, \"ind vs pak match\", \"15-oct-2023\", \"Narendar Modi Stadium\", 34, 1500, False)\n",
    "t1.reserve_ticket()\n",
    "t1.display_ticket_info()\n",
    "t1.cancel_reservation()\n",
    "t1.display_ticket_info()\n",
    "    "
   ]
  },
  {
   "cell_type": "code",
   "execution_count": 10,
   "id": "c687b13e-1bb5-4651-a972-1a25a0912725",
   "metadata": {},
   "outputs": [
    {
     "name": "stdout",
     "output_type": "stream",
     "text": [
      "Adding cricket kit bag to your bag......\n",
      "Added the cricket kit bag successfuly to your bag\n",
      "items in your cart: \n",
      "smart watch\n",
      "cristian dior bag\n",
      "intel power bank\n",
      "cricket kit bag\n",
      "Clearing your cart\n",
      "Cleared your cart successfuly\n",
      "items in your cart: \n"
     ]
    }
   ],
   "source": [
    "# Q9:\n",
    "class ShoppingCart:\n",
    "    def __init__(self):\n",
    "        self.items = [\"smart watch\", \"cristian dior bag\", \"intel power bank\"]\n",
    "    \n",
    "    def add_item(self, item):\n",
    "        print(f\"Adding {item} to your bag......\")\n",
    "        self.items.append(item)\n",
    "        print(f\"Added the {item} successfuly to your bag\")\n",
    "    def remove_item(self, item):\n",
    "        print(f\"Do not close this page until item is removed\")\n",
    "        self.items.remove(item)\n",
    "        print(f\"Successfully removed {item} from your bag\")\n",
    "        \n",
    "    def view_cart(self):\n",
    "        print(f\"items in your cart: \")\n",
    "        for i in self.items:\n",
    "            \n",
    "            print(i)\n",
    "            \n",
    "    def clearCart(self):\n",
    "        print(f\"Clearing your cart\")\n",
    "        self.items = []\n",
    "        print(f\"Cleared your cart successfuly\")\n",
    "        \n",
    "c1 = ShoppingCart()\n",
    "# c1.view_cart()\n",
    "c1.add_item(\"cricket kit bag\")\n",
    "c1.view_cart()\n",
    "c1.clearCart()\n",
    "c1.view_cart()\n",
    "    \n",
    "    "
   ]
  },
  {
   "cell_type": "code",
   "execution_count": 39,
   "id": "5a64b56c-6ad0-468a-8f4d-ef49cd979c8b",
   "metadata": {},
   "outputs": [
    {
     "name": "stdout",
     "output_type": "stream",
     "text": [
      "Updated the attendance for current day of student\n",
      "Updated the attendance for current day of student\n",
      "Updated the attendance for current day of student\n",
      "Updated the attendance for current day of student\n",
      "Updated the attendance for current day of student\n",
      "Updated the attendance for current day of student\n"
     ]
    },
    {
     "name": "stdin",
     "output_type": "stream",
     "text": [
      "Enter number of classes 7\n"
     ]
    },
    {
     "name": "stdout",
     "output_type": "stream",
     "text": [
      "57.14285714285714\n"
     ]
    }
   ],
   "source": [
    "# Q 10:\n",
    "class Student:\n",
    "    def __init__(self, name, age, grade, student_id):\n",
    "        self.name = name\n",
    "        self.age = age\n",
    "        self.grade = grade\n",
    "        self.student_id = student_id\n",
    "        self.attendance = {}\n",
    "    def update_attendance(self, date, status):\n",
    "        self.attendance.update({date:status})\n",
    "        print(\"Updated the attendance for current day of student\")\n",
    "    def get_attendance(self):\n",
    "        return self.attendance\n",
    "    def average_attendance(self):\n",
    "        i = 0\n",
    "        for values in self.attendance.values():\n",
    "            if values == \"present\":\n",
    "                i = i + 1\n",
    "            sum = i\n",
    "        days = int(input(\"Enter number of classes\"))\n",
    "        average = (sum/days)*100\n",
    "        print(average)\n",
    "            \n",
    "    \n",
    "stu1 = Student(\"Basit\", 25, \"mca iv sem\", \"91045113003\")\n",
    "stu1.update_attendance(1, \"present\")\n",
    "stu1.update_attendance(2, \"present\")\n",
    "stu1.update_attendance(3, \"present\")\n",
    "stu1.update_attendance(5, \"present\")\n",
    "stu1.update_attendance(6, \"absent\")\n",
    "stu1.update_attendance(7, \"absent\")\n",
    "stu1.get_attendance()\n",
    "stu1.average_attendance()"
   ]
  },
  {
   "cell_type": "code",
   "execution_count": null,
   "id": "52e20640-2749-4dab-a6d4-b91c88fc6ca4",
   "metadata": {},
   "outputs": [],
   "source": []
  },
  {
   "cell_type": "code",
   "execution_count": null,
   "id": "ce580c89-096b-41f8-b62d-5e7ade61a83a",
   "metadata": {},
   "outputs": [],
   "source": []
  }
 ],
 "metadata": {
  "kernelspec": {
   "display_name": "Python 3 (ipykernel)",
   "language": "python",
   "name": "python3"
  },
  "language_info": {
   "codemirror_mode": {
    "name": "ipython",
    "version": 3
   },
   "file_extension": ".py",
   "mimetype": "text/x-python",
   "name": "python",
   "nbconvert_exporter": "python",
   "pygments_lexer": "ipython3",
   "version": "3.10.6"
  }
 },
 "nbformat": 4,
 "nbformat_minor": 5
}
